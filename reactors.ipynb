{
  "nbformat": 4,
  "nbformat_minor": 0,
  "metadata": {
    "colab": {
      "name": "reactors.ipynb",
      "provenance": [],
      "authorship_tag": "ABX9TyMIjZD2tS/BYQ6sFgjMOIO1",
      "include_colab_link": true
    },
    "kernelspec": {
      "name": "python3",
      "display_name": "Python 3"
    },
    "language_info": {
      "name": "python"
    }
  },
  "cells": [
    {
      "cell_type": "markdown",
      "metadata": {
        "id": "view-in-github",
        "colab_type": "text"
      },
      "source": [
        "<a href=\"https://colab.research.google.com/github/Jason131sx/Reactor/blob/main/reactors.ipynb\" target=\"_parent\"><img src=\"https://colab.research.google.com/assets/colab-badge.svg\" alt=\"Open In Colab\"/></a>"
      ]
    },
    {
      "cell_type": "markdown",
      "metadata": {
        "id": "x--7fuJFBv5Z"
      },
      "source": [
        "## Data Cleaing with Pandas\n"
      ]
    },
    {
      "cell_type": "code",
      "metadata": {
        "id": "zE6zaRe1BGVX"
      },
      "source": [
        "import pandas as pd\n",
        "import numpy as np\n",
        "import matplotlib as mpl"
      ],
      "execution_count": null,
      "outputs": []
    },
    {
      "cell_type": "markdown",
      "metadata": {
        "id": "L78CGkh9Cpa0"
      },
      "source": [
        "Reading a csv file from the working directory\n"
      ]
    },
    {
      "cell_type": "code",
      "metadata": {
        "id": "PsPj9QOfCnJk"
      },
      "source": [
        "reactors =pd.read_csv('reactors.csv')"
      ],
      "execution_count": null,
      "outputs": []
    },
    {
      "cell_type": "code",
      "metadata": {
        "colab": {
          "base_uri": "https://localhost:8080/",
          "height": 440
        },
        "id": "9LzSdAayDd0t",
        "outputId": "7033bddd-c42c-4b59-9b9e-27a5f06e2c77"
      },
      "source": [
        "reactors.head()"
      ],
      "execution_count": null,
      "outputs": [
        {
          "output_type": "execute_result",
          "data": {
            "text/html": [
              "<div>\n",
              "<style scoped>\n",
              "    .dataframe tbody tr th:only-of-type {\n",
              "        vertical-align: middle;\n",
              "    }\n",
              "\n",
              "    .dataframe tbody tr th {\n",
              "        vertical-align: top;\n",
              "    }\n",
              "\n",
              "    .dataframe thead th {\n",
              "        text-align: right;\n",
              "    }\n",
              "</style>\n",
              "<table border=\"1\" class=\"dataframe\">\n",
              "  <thead>\n",
              "    <tr style=\"text-align: right;\">\n",
              "      <th></th>\n",
              "      <th>url</th>\n",
              "      <th>Name</th>\n",
              "      <th>Name_link</th>\n",
              "      <th>Country</th>\n",
              "      <th>Capacity</th>\n",
              "      <th>Status</th>\n",
              "      <th>Type</th>\n",
              "      <th>Owner</th>\n",
              "      <th>Operator</th>\n",
              "      <th>Connection</th>\n",
              "    </tr>\n",
              "  </thead>\n",
              "  <tbody>\n",
              "    <tr>\n",
              "      <th>0</th>\n",
              "      <td>http://www.world-nuclear.org/information-libra...</td>\n",
              "      <td>Agesta</td>\n",
              "      <td>http://www.world-nuclear.org/reactor/default.a...</td>\n",
              "      <td>Sweden</td>\n",
              "      <td>10 MWe</td>\n",
              "      <td>PERMANENT SHUTDOWN</td>\n",
              "      <td>Pressurized Heavy Water Reactor</td>\n",
              "      <td>Barsebäck Kraft AB</td>\n",
              "      <td>Barsebäck Kraft AB</td>\n",
              "      <td>1 May 1964</td>\n",
              "    </tr>\n",
              "    <tr>\n",
              "      <th>1</th>\n",
              "      <td>http://www.world-nuclear.org/information-libra...</td>\n",
              "      <td>Akademik Lomonosov 1</td>\n",
              "      <td>http://www.world-nuclear.org/reactor/default.a...</td>\n",
              "      <td>Russia</td>\n",
              "      <td>32 MWe</td>\n",
              "      <td>UNDER CONSTRUCTION</td>\n",
              "      <td>Pressurised Water Reactor</td>\n",
              "      <td>Joint Stock Company 'Concern Rosenergoatom'</td>\n",
              "      <td>Joint Stock Company 'Concern Rosenergoatom'</td>\n",
              "      <td>NaN</td>\n",
              "    </tr>\n",
              "    <tr>\n",
              "      <th>2</th>\n",
              "      <td>http://www.world-nuclear.org/information-libra...</td>\n",
              "      <td>Akademik Lomonosov 2</td>\n",
              "      <td>http://www.world-nuclear.org/reactor/default.a...</td>\n",
              "      <td>Russia</td>\n",
              "      <td>32 MWe</td>\n",
              "      <td>UNDER CONSTRUCTION</td>\n",
              "      <td>Pressurised Water Reactor</td>\n",
              "      <td>Joint Stock Company 'Concern Rosenergoatom'</td>\n",
              "      <td>Joint Stock Company 'Concern Rosenergoatom'</td>\n",
              "      <td>NaN</td>\n",
              "    </tr>\n",
              "    <tr>\n",
              "      <th>3</th>\n",
              "      <td>http://www.world-nuclear.org/information-libra...</td>\n",
              "      <td>Aktau</td>\n",
              "      <td>http://www.world-nuclear.org/reactor/default.a...</td>\n",
              "      <td>Kazakhstan</td>\n",
              "      <td>52 MWe</td>\n",
              "      <td>PERMANENT SHUTDOWN</td>\n",
              "      <td>Fast Reactor</td>\n",
              "      <td>Joint Stock Company \"National Atomic Company K...</td>\n",
              "      <td>Mangishlak Atomic Energy Complex-Kazatomprom,L...</td>\n",
              "      <td>16 July 1973</td>\n",
              "    </tr>\n",
              "    <tr>\n",
              "      <th>4</th>\n",
              "      <td>http://www.world-nuclear.org/information-libra...</td>\n",
              "      <td>Almaraz 1</td>\n",
              "      <td>http://www.world-nuclear.org/reactor/default.a...</td>\n",
              "      <td>Spain</td>\n",
              "      <td>1011 MWe</td>\n",
              "      <td>OPERABLE</td>\n",
              "      <td>Pressurised Water Reactor</td>\n",
              "      <td>Iberdrola, Endesa, Gas Natural</td>\n",
              "      <td>Centrales Nucleares Almaraz-Trillo(Id/Ufg/Ende...</td>\n",
              "      <td>1 May 1981</td>\n",
              "    </tr>\n",
              "  </tbody>\n",
              "</table>\n",
              "</div>"
            ],
            "text/plain": [
              "                                                 url  ...    Connection\n",
              "0  http://www.world-nuclear.org/information-libra...  ...    1 May 1964\n",
              "1  http://www.world-nuclear.org/information-libra...  ...           NaN\n",
              "2  http://www.world-nuclear.org/information-libra...  ...           NaN\n",
              "3  http://www.world-nuclear.org/information-libra...  ...  16 July 1973\n",
              "4  http://www.world-nuclear.org/information-libra...  ...    1 May 1981\n",
              "\n",
              "[5 rows x 10 columns]"
            ]
          },
          "metadata": {},
          "execution_count": 119
        }
      ]
    },
    {
      "cell_type": "markdown",
      "metadata": {
        "id": "Uy0-_WAYDjms"
      },
      "source": [
        "## Displaying Basic Statistics"
      ]
    },
    {
      "cell_type": "code",
      "metadata": {
        "colab": {
          "base_uri": "https://localhost:8080/",
          "height": 189
        },
        "id": "UkM_a-IhDpwG",
        "outputId": "699e9f9a-b436-4f66-a82c-30357417430f"
      },
      "source": [
        "reactors.describe()"
      ],
      "execution_count": null,
      "outputs": [
        {
          "output_type": "execute_result",
          "data": {
            "text/html": [
              "<div>\n",
              "<style scoped>\n",
              "    .dataframe tbody tr th:only-of-type {\n",
              "        vertical-align: middle;\n",
              "    }\n",
              "\n",
              "    .dataframe tbody tr th {\n",
              "        vertical-align: top;\n",
              "    }\n",
              "\n",
              "    .dataframe thead th {\n",
              "        text-align: right;\n",
              "    }\n",
              "</style>\n",
              "<table border=\"1\" class=\"dataframe\">\n",
              "  <thead>\n",
              "    <tr style=\"text-align: right;\">\n",
              "      <th></th>\n",
              "      <th>url</th>\n",
              "      <th>Name</th>\n",
              "      <th>Name_link</th>\n",
              "      <th>Country</th>\n",
              "      <th>Capacity</th>\n",
              "      <th>Status</th>\n",
              "      <th>Type</th>\n",
              "      <th>Owner</th>\n",
              "      <th>Operator</th>\n",
              "      <th>Connection</th>\n",
              "    </tr>\n",
              "  </thead>\n",
              "  <tbody>\n",
              "    <tr>\n",
              "      <th>count</th>\n",
              "      <td>671</td>\n",
              "      <td>671</td>\n",
              "      <td>671</td>\n",
              "      <td>671</td>\n",
              "      <td>671</td>\n",
              "      <td>671</td>\n",
              "      <td>671</td>\n",
              "      <td>658</td>\n",
              "      <td>671</td>\n",
              "      <td>610</td>\n",
              "    </tr>\n",
              "    <tr>\n",
              "      <th>unique</th>\n",
              "      <td>1</td>\n",
              "      <td>671</td>\n",
              "      <td>671</td>\n",
              "      <td>40</td>\n",
              "      <td>321</td>\n",
              "      <td>6</td>\n",
              "      <td>12</td>\n",
              "      <td>172</td>\n",
              "      <td>158</td>\n",
              "      <td>595</td>\n",
              "    </tr>\n",
              "    <tr>\n",
              "      <th>top</th>\n",
              "      <td>http://www.world-nuclear.org/information-libra...</td>\n",
              "      <td>Chernobyl 4</td>\n",
              "      <td>http://www.world-nuclear.org/reactor/default.a...</td>\n",
              "      <td>United States Of America</td>\n",
              "      <td>950 MWe</td>\n",
              "      <td>OPERABLE</td>\n",
              "      <td>Pressurised Water Reactor</td>\n",
              "      <td>EDF</td>\n",
              "      <td>EDF</td>\n",
              "      <td>9 May 1984</td>\n",
              "    </tr>\n",
              "    <tr>\n",
              "      <th>freq</th>\n",
              "      <td>671</td>\n",
              "      <td>1</td>\n",
              "      <td>1</td>\n",
              "      <td>131</td>\n",
              "      <td>28</td>\n",
              "      <td>447</td>\n",
              "      <td>389</td>\n",
              "      <td>68</td>\n",
              "      <td>67</td>\n",
              "      <td>3</td>\n",
              "    </tr>\n",
              "  </tbody>\n",
              "</table>\n",
              "</div>"
            ],
            "text/plain": [
              "                                                      url  ...  Connection\n",
              "count                                                 671  ...         610\n",
              "unique                                                  1  ...         595\n",
              "top     http://www.world-nuclear.org/information-libra...  ...  9 May 1984\n",
              "freq                                                  671  ...           3\n",
              "\n",
              "[4 rows x 10 columns]"
            ]
          },
          "metadata": {},
          "execution_count": 120
        }
      ]
    },
    {
      "cell_type": "markdown",
      "metadata": {
        "id": "SucRyTqUD0mV"
      },
      "source": [
        "## Displaying unique values"
      ]
    },
    {
      "cell_type": "code",
      "metadata": {
        "colab": {
          "base_uri": "https://localhost:8080/"
        },
        "id": "oZQF4F1BD3z8",
        "outputId": "c85b7367-73f8-4c6d-da5f-bce6340d35eb"
      },
      "source": [
        "reactors['url'].unique()"
      ],
      "execution_count": null,
      "outputs": [
        {
          "output_type": "execute_result",
          "data": {
            "text/plain": [
              "array(['http://www.world-nuclear.org/information-library/facts-and-figures/reactor-database.aspx?source=%7B%22query%22%3A%7B%22match_all%22%3A%7B%7D%7D%2C%22size%22%3A%22700%22%2C%22sort%22%3A%5B%7B%22index.sort_name.exact%22%3A%7B%22order%22%3A%22asc%22%7D%7D%5D%7D'],\n",
              "      dtype=object)"
            ]
          },
          "metadata": {},
          "execution_count": 121
        }
      ]
    },
    {
      "cell_type": "markdown",
      "metadata": {
        "id": "fG_oNHpyEGS1"
      },
      "source": [
        "## Deleting Columns"
      ]
    },
    {
      "cell_type": "code",
      "metadata": {
        "colab": {
          "base_uri": "https://localhost:8080/",
          "height": 372
        },
        "id": "EbzuanKnEKnc",
        "outputId": "681030d4-6980-4b4c-980b-e233b78db351"
      },
      "source": [
        "reactors.drop(columns = 'url', inplace = True)\n",
        "reactors.head()"
      ],
      "execution_count": null,
      "outputs": [
        {
          "output_type": "execute_result",
          "data": {
            "text/html": [
              "<div>\n",
              "<style scoped>\n",
              "    .dataframe tbody tr th:only-of-type {\n",
              "        vertical-align: middle;\n",
              "    }\n",
              "\n",
              "    .dataframe tbody tr th {\n",
              "        vertical-align: top;\n",
              "    }\n",
              "\n",
              "    .dataframe thead th {\n",
              "        text-align: right;\n",
              "    }\n",
              "</style>\n",
              "<table border=\"1\" class=\"dataframe\">\n",
              "  <thead>\n",
              "    <tr style=\"text-align: right;\">\n",
              "      <th></th>\n",
              "      <th>Name</th>\n",
              "      <th>Name_link</th>\n",
              "      <th>Country</th>\n",
              "      <th>Capacity</th>\n",
              "      <th>Status</th>\n",
              "      <th>Type</th>\n",
              "      <th>Owner</th>\n",
              "      <th>Operator</th>\n",
              "      <th>Connection</th>\n",
              "    </tr>\n",
              "  </thead>\n",
              "  <tbody>\n",
              "    <tr>\n",
              "      <th>0</th>\n",
              "      <td>Agesta</td>\n",
              "      <td>http://www.world-nuclear.org/reactor/default.a...</td>\n",
              "      <td>Sweden</td>\n",
              "      <td>10 MWe</td>\n",
              "      <td>PERMANENT SHUTDOWN</td>\n",
              "      <td>Pressurized Heavy Water Reactor</td>\n",
              "      <td>Barsebäck Kraft AB</td>\n",
              "      <td>Barsebäck Kraft AB</td>\n",
              "      <td>1 May 1964</td>\n",
              "    </tr>\n",
              "    <tr>\n",
              "      <th>1</th>\n",
              "      <td>Akademik Lomonosov 1</td>\n",
              "      <td>http://www.world-nuclear.org/reactor/default.a...</td>\n",
              "      <td>Russia</td>\n",
              "      <td>32 MWe</td>\n",
              "      <td>UNDER CONSTRUCTION</td>\n",
              "      <td>Pressurised Water Reactor</td>\n",
              "      <td>Joint Stock Company 'Concern Rosenergoatom'</td>\n",
              "      <td>Joint Stock Company 'Concern Rosenergoatom'</td>\n",
              "      <td>NaN</td>\n",
              "    </tr>\n",
              "    <tr>\n",
              "      <th>2</th>\n",
              "      <td>Akademik Lomonosov 2</td>\n",
              "      <td>http://www.world-nuclear.org/reactor/default.a...</td>\n",
              "      <td>Russia</td>\n",
              "      <td>32 MWe</td>\n",
              "      <td>UNDER CONSTRUCTION</td>\n",
              "      <td>Pressurised Water Reactor</td>\n",
              "      <td>Joint Stock Company 'Concern Rosenergoatom'</td>\n",
              "      <td>Joint Stock Company 'Concern Rosenergoatom'</td>\n",
              "      <td>NaN</td>\n",
              "    </tr>\n",
              "    <tr>\n",
              "      <th>3</th>\n",
              "      <td>Aktau</td>\n",
              "      <td>http://www.world-nuclear.org/reactor/default.a...</td>\n",
              "      <td>Kazakhstan</td>\n",
              "      <td>52 MWe</td>\n",
              "      <td>PERMANENT SHUTDOWN</td>\n",
              "      <td>Fast Reactor</td>\n",
              "      <td>Joint Stock Company \"National Atomic Company K...</td>\n",
              "      <td>Mangishlak Atomic Energy Complex-Kazatomprom,L...</td>\n",
              "      <td>16 July 1973</td>\n",
              "    </tr>\n",
              "    <tr>\n",
              "      <th>4</th>\n",
              "      <td>Almaraz 1</td>\n",
              "      <td>http://www.world-nuclear.org/reactor/default.a...</td>\n",
              "      <td>Spain</td>\n",
              "      <td>1011 MWe</td>\n",
              "      <td>OPERABLE</td>\n",
              "      <td>Pressurised Water Reactor</td>\n",
              "      <td>Iberdrola, Endesa, Gas Natural</td>\n",
              "      <td>Centrales Nucleares Almaraz-Trillo(Id/Ufg/Ende...</td>\n",
              "      <td>1 May 1981</td>\n",
              "    </tr>\n",
              "  </tbody>\n",
              "</table>\n",
              "</div>"
            ],
            "text/plain": [
              "                   Name  ...    Connection\n",
              "0                Agesta  ...    1 May 1964\n",
              "1  Akademik Lomonosov 1  ...           NaN\n",
              "2  Akademik Lomonosov 2  ...           NaN\n",
              "3                 Aktau  ...  16 July 1973\n",
              "4             Almaraz 1  ...    1 May 1981\n",
              "\n",
              "[5 rows x 9 columns]"
            ]
          },
          "metadata": {},
          "execution_count": 122
        }
      ]
    },
    {
      "cell_type": "markdown",
      "metadata": {
        "id": "udDnWlJDEX0E"
      },
      "source": [
        "## Sorting values"
      ]
    },
    {
      "cell_type": "code",
      "metadata": {
        "colab": {
          "base_uri": "https://localhost:8080/",
          "height": 688
        },
        "id": "VvjT3BAXEaet",
        "outputId": "d2a03504-18ea-41f8-84bf-65bb334271f2"
      },
      "source": [
        "reactors.sort_values(\"Connection\", na_position = 'first')"
      ],
      "execution_count": null,
      "outputs": [
        {
          "output_type": "execute_result",
          "data": {
            "text/html": [
              "<div>\n",
              "<style scoped>\n",
              "    .dataframe tbody tr th:only-of-type {\n",
              "        vertical-align: middle;\n",
              "    }\n",
              "\n",
              "    .dataframe tbody tr th {\n",
              "        vertical-align: top;\n",
              "    }\n",
              "\n",
              "    .dataframe thead th {\n",
              "        text-align: right;\n",
              "    }\n",
              "</style>\n",
              "<table border=\"1\" class=\"dataframe\">\n",
              "  <thead>\n",
              "    <tr style=\"text-align: right;\">\n",
              "      <th></th>\n",
              "      <th>Name</th>\n",
              "      <th>Name_link</th>\n",
              "      <th>Country</th>\n",
              "      <th>Capacity</th>\n",
              "      <th>Status</th>\n",
              "      <th>Type</th>\n",
              "      <th>Owner</th>\n",
              "      <th>Operator</th>\n",
              "      <th>Connection</th>\n",
              "    </tr>\n",
              "  </thead>\n",
              "  <tbody>\n",
              "    <tr>\n",
              "      <th>1</th>\n",
              "      <td>Akademik Lomonosov 1</td>\n",
              "      <td>http://www.world-nuclear.org/reactor/default.a...</td>\n",
              "      <td>Russia</td>\n",
              "      <td>32 MWe</td>\n",
              "      <td>UNDER CONSTRUCTION</td>\n",
              "      <td>Pressurised Water Reactor</td>\n",
              "      <td>Joint Stock Company 'Concern Rosenergoatom'</td>\n",
              "      <td>Joint Stock Company 'Concern Rosenergoatom'</td>\n",
              "      <td>NaN</td>\n",
              "    </tr>\n",
              "    <tr>\n",
              "      <th>2</th>\n",
              "      <td>Akademik Lomonosov 2</td>\n",
              "      <td>http://www.world-nuclear.org/reactor/default.a...</td>\n",
              "      <td>Russia</td>\n",
              "      <td>32 MWe</td>\n",
              "      <td>UNDER CONSTRUCTION</td>\n",
              "      <td>Pressurised Water Reactor</td>\n",
              "      <td>Joint Stock Company 'Concern Rosenergoatom'</td>\n",
              "      <td>Joint Stock Company 'Concern Rosenergoatom'</td>\n",
              "      <td>NaN</td>\n",
              "    </tr>\n",
              "    <tr>\n",
              "      <th>8</th>\n",
              "      <td>Angra 3</td>\n",
              "      <td>http://www.world-nuclear.org/reactor/default.a...</td>\n",
              "      <td>Brazil</td>\n",
              "      <td>1245 MWe</td>\n",
              "      <td>UNDER CONSTRUCTION</td>\n",
              "      <td>Pressurised Water Reactor</td>\n",
              "      <td>Eletrobras Eletronuclear S.A.</td>\n",
              "      <td>Eletrobras Eletronuclear S.A.</td>\n",
              "      <td>NaN</td>\n",
              "    </tr>\n",
              "    <tr>\n",
              "      <th>23</th>\n",
              "      <td>Baltic 1</td>\n",
              "      <td>http://www.world-nuclear.org/reactor/default.a...</td>\n",
              "      <td>Russia</td>\n",
              "      <td>1109 MWe</td>\n",
              "      <td>UNDER CONSTRUCTION</td>\n",
              "      <td>Pressurised Water Reactor</td>\n",
              "      <td>Joint Stock Company 'Concern Rosenergoatom'</td>\n",
              "      <td>Joint Stock Company 'Concern Rosenergoatom'</td>\n",
              "      <td>NaN</td>\n",
              "    </tr>\n",
              "    <tr>\n",
              "      <th>24</th>\n",
              "      <td>Barakah 1</td>\n",
              "      <td>http://www.world-nuclear.org/reactor/default.a...</td>\n",
              "      <td>United Arab Emirates</td>\n",
              "      <td>1345 MWe</td>\n",
              "      <td>UNDER CONSTRUCTION</td>\n",
              "      <td>Pressurised Water Reactor</td>\n",
              "      <td>Emirates Nuclear Energy Corporation</td>\n",
              "      <td>Emirates Nuclear Energy Corporation</td>\n",
              "      <td>NaN</td>\n",
              "    </tr>\n",
              "    <tr>\n",
              "      <th>...</th>\n",
              "      <td>...</td>\n",
              "      <td>...</td>\n",
              "      <td>...</td>\n",
              "      <td>...</td>\n",
              "      <td>...</td>\n",
              "      <td>...</td>\n",
              "      <td>...</td>\n",
              "      <td>...</td>\n",
              "      <td>...</td>\n",
              "    </tr>\n",
              "    <tr>\n",
              "      <th>394</th>\n",
              "      <td>Maanshan 1</td>\n",
              "      <td>http://www.world-nuclear.org/reactor/default.a...</td>\n",
              "      <td>Taiwan</td>\n",
              "      <td>936 MWe</td>\n",
              "      <td>OPERABLE</td>\n",
              "      <td>Pressurised Water Reactor</td>\n",
              "      <td>Taiwan Power Co.</td>\n",
              "      <td>Taiwan Power Co.</td>\n",
              "      <td>9 May 1984</td>\n",
              "    </tr>\n",
              "    <tr>\n",
              "      <th>595</th>\n",
              "      <td>Takahama 3</td>\n",
              "      <td>http://www.world-nuclear.org/reactor/default.a...</td>\n",
              "      <td>Japan</td>\n",
              "      <td>830 MWe</td>\n",
              "      <td>OPERABLE</td>\n",
              "      <td>Pressurised Water Reactor</td>\n",
              "      <td>Kansai Electric Power Co.</td>\n",
              "      <td>Kansai Electric Power Co.</td>\n",
              "      <td>9 May 1984</td>\n",
              "    </tr>\n",
              "    <tr>\n",
              "      <th>323</th>\n",
              "      <td>Kalinin 1</td>\n",
              "      <td>http://www.world-nuclear.org/reactor/default.a...</td>\n",
              "      <td>Russia</td>\n",
              "      <td>950 MWe</td>\n",
              "      <td>OPERABLE</td>\n",
              "      <td>Pressurised Water Reactor</td>\n",
              "      <td>Joint Stock Company 'Concern Rosenergoatom'</td>\n",
              "      <td>Joint Stock Company 'Concern Rosenergoatom'</td>\n",
              "      <td>9 May 1984</td>\n",
              "    </tr>\n",
              "    <tr>\n",
              "      <th>421</th>\n",
              "      <td>Nine Mile Point 1</td>\n",
              "      <td>http://www.world-nuclear.org/reactor/default.a...</td>\n",
              "      <td>United States Of America</td>\n",
              "      <td>613 MWe</td>\n",
              "      <td>OPERABLE</td>\n",
              "      <td>Boiling Water Reactor</td>\n",
              "      <td>Constellation Energy Nuclear Group, Llc</td>\n",
              "      <td>Exelon Generation Co., Llc</td>\n",
              "      <td>9 November 1969</td>\n",
              "    </tr>\n",
              "    <tr>\n",
              "      <th>405</th>\n",
              "      <td>Millstone 2</td>\n",
              "      <td>http://www.world-nuclear.org/reactor/default.a...</td>\n",
              "      <td>United States Of America</td>\n",
              "      <td>869 MWe</td>\n",
              "      <td>OPERABLE</td>\n",
              "      <td>Pressurised Water Reactor</td>\n",
              "      <td>Dominion Resources, Inc.</td>\n",
              "      <td>Dominion Generation</td>\n",
              "      <td>9 November 1975</td>\n",
              "    </tr>\n",
              "  </tbody>\n",
              "</table>\n",
              "<p>671 rows × 9 columns</p>\n",
              "</div>"
            ],
            "text/plain": [
              "                     Name  ...       Connection\n",
              "1    Akademik Lomonosov 1  ...              NaN\n",
              "2    Akademik Lomonosov 2  ...              NaN\n",
              "8                 Angra 3  ...              NaN\n",
              "23               Baltic 1  ...              NaN\n",
              "24              Barakah 1  ...              NaN\n",
              "..                    ...  ...              ...\n",
              "394            Maanshan 1  ...       9 May 1984\n",
              "595            Takahama 3  ...       9 May 1984\n",
              "323             Kalinin 1  ...       9 May 1984\n",
              "421     Nine Mile Point 1  ...  9 November 1969\n",
              "405           Millstone 2  ...  9 November 1975\n",
              "\n",
              "[671 rows x 9 columns]"
            ]
          },
          "metadata": {},
          "execution_count": 123
        }
      ]
    },
    {
      "cell_type": "markdown",
      "metadata": {
        "id": "lAUqrFOTJjmc"
      },
      "source": [
        "## Creating another columns for the year. Extraction uses regular expression"
      ]
    },
    {
      "cell_type": "code",
      "metadata": {
        "id": "KVdu83vkHTdW"
      },
      "source": [
        "reactors['Year'] = reactors['Connection'].str.extract(r'\\b(\\w+)$', expand=True)"
      ],
      "execution_count": null,
      "outputs": []
    },
    {
      "cell_type": "code",
      "metadata": {
        "colab": {
          "base_uri": "https://localhost:8080/",
          "height": 372
        },
        "id": "YT00VYq9JQd-",
        "outputId": "66145ac4-4ef5-4658-f9a6-8cb9238350a0"
      },
      "source": [
        "reactors.head()"
      ],
      "execution_count": null,
      "outputs": [
        {
          "output_type": "execute_result",
          "data": {
            "text/html": [
              "<div>\n",
              "<style scoped>\n",
              "    .dataframe tbody tr th:only-of-type {\n",
              "        vertical-align: middle;\n",
              "    }\n",
              "\n",
              "    .dataframe tbody tr th {\n",
              "        vertical-align: top;\n",
              "    }\n",
              "\n",
              "    .dataframe thead th {\n",
              "        text-align: right;\n",
              "    }\n",
              "</style>\n",
              "<table border=\"1\" class=\"dataframe\">\n",
              "  <thead>\n",
              "    <tr style=\"text-align: right;\">\n",
              "      <th></th>\n",
              "      <th>Name</th>\n",
              "      <th>Name_link</th>\n",
              "      <th>Country</th>\n",
              "      <th>Capacity</th>\n",
              "      <th>Status</th>\n",
              "      <th>Type</th>\n",
              "      <th>Owner</th>\n",
              "      <th>Operator</th>\n",
              "      <th>Connection</th>\n",
              "      <th>Year</th>\n",
              "    </tr>\n",
              "  </thead>\n",
              "  <tbody>\n",
              "    <tr>\n",
              "      <th>0</th>\n",
              "      <td>Agesta</td>\n",
              "      <td>http://www.world-nuclear.org/reactor/default.a...</td>\n",
              "      <td>Sweden</td>\n",
              "      <td>10 MWe</td>\n",
              "      <td>PERMANENT SHUTDOWN</td>\n",
              "      <td>Pressurized Heavy Water Reactor</td>\n",
              "      <td>Barsebäck Kraft AB</td>\n",
              "      <td>Barsebäck Kraft AB</td>\n",
              "      <td>1 May 1964</td>\n",
              "      <td>1964</td>\n",
              "    </tr>\n",
              "    <tr>\n",
              "      <th>1</th>\n",
              "      <td>Akademik Lomonosov 1</td>\n",
              "      <td>http://www.world-nuclear.org/reactor/default.a...</td>\n",
              "      <td>Russia</td>\n",
              "      <td>32 MWe</td>\n",
              "      <td>UNDER CONSTRUCTION</td>\n",
              "      <td>Pressurised Water Reactor</td>\n",
              "      <td>Joint Stock Company 'Concern Rosenergoatom'</td>\n",
              "      <td>Joint Stock Company 'Concern Rosenergoatom'</td>\n",
              "      <td>NaN</td>\n",
              "      <td>NaN</td>\n",
              "    </tr>\n",
              "    <tr>\n",
              "      <th>2</th>\n",
              "      <td>Akademik Lomonosov 2</td>\n",
              "      <td>http://www.world-nuclear.org/reactor/default.a...</td>\n",
              "      <td>Russia</td>\n",
              "      <td>32 MWe</td>\n",
              "      <td>UNDER CONSTRUCTION</td>\n",
              "      <td>Pressurised Water Reactor</td>\n",
              "      <td>Joint Stock Company 'Concern Rosenergoatom'</td>\n",
              "      <td>Joint Stock Company 'Concern Rosenergoatom'</td>\n",
              "      <td>NaN</td>\n",
              "      <td>NaN</td>\n",
              "    </tr>\n",
              "    <tr>\n",
              "      <th>3</th>\n",
              "      <td>Aktau</td>\n",
              "      <td>http://www.world-nuclear.org/reactor/default.a...</td>\n",
              "      <td>Kazakhstan</td>\n",
              "      <td>52 MWe</td>\n",
              "      <td>PERMANENT SHUTDOWN</td>\n",
              "      <td>Fast Reactor</td>\n",
              "      <td>Joint Stock Company \"National Atomic Company K...</td>\n",
              "      <td>Mangishlak Atomic Energy Complex-Kazatomprom,L...</td>\n",
              "      <td>16 July 1973</td>\n",
              "      <td>1973</td>\n",
              "    </tr>\n",
              "    <tr>\n",
              "      <th>4</th>\n",
              "      <td>Almaraz 1</td>\n",
              "      <td>http://www.world-nuclear.org/reactor/default.a...</td>\n",
              "      <td>Spain</td>\n",
              "      <td>1011 MWe</td>\n",
              "      <td>OPERABLE</td>\n",
              "      <td>Pressurised Water Reactor</td>\n",
              "      <td>Iberdrola, Endesa, Gas Natural</td>\n",
              "      <td>Centrales Nucleares Almaraz-Trillo(Id/Ufg/Ende...</td>\n",
              "      <td>1 May 1981</td>\n",
              "      <td>1981</td>\n",
              "    </tr>\n",
              "  </tbody>\n",
              "</table>\n",
              "</div>"
            ],
            "text/plain": [
              "                   Name  ...  Year\n",
              "0                Agesta  ...  1964\n",
              "1  Akademik Lomonosov 1  ...   NaN\n",
              "2  Akademik Lomonosov 2  ...   NaN\n",
              "3                 Aktau  ...  1973\n",
              "4             Almaraz 1  ...  1981\n",
              "\n",
              "[5 rows x 10 columns]"
            ]
          },
          "metadata": {},
          "execution_count": 125
        }
      ]
    },
    {
      "cell_type": "code",
      "metadata": {
        "colab": {
          "base_uri": "https://localhost:8080/",
          "height": 418
        },
        "id": "aYxPSp9BKLcD",
        "outputId": "1b0a2caf-d6d4-419c-8f38-09c74c63f810"
      },
      "source": [
        "new_capacity = reactors['Capacity'].str.split(' ', n = 1, expand=True)\n",
        "new_capacity"
      ],
      "execution_count": null,
      "outputs": [
        {
          "output_type": "execute_result",
          "data": {
            "text/html": [
              "<div>\n",
              "<style scoped>\n",
              "    .dataframe tbody tr th:only-of-type {\n",
              "        vertical-align: middle;\n",
              "    }\n",
              "\n",
              "    .dataframe tbody tr th {\n",
              "        vertical-align: top;\n",
              "    }\n",
              "\n",
              "    .dataframe thead th {\n",
              "        text-align: right;\n",
              "    }\n",
              "</style>\n",
              "<table border=\"1\" class=\"dataframe\">\n",
              "  <thead>\n",
              "    <tr style=\"text-align: right;\">\n",
              "      <th></th>\n",
              "      <th>0</th>\n",
              "      <th>1</th>\n",
              "    </tr>\n",
              "  </thead>\n",
              "  <tbody>\n",
              "    <tr>\n",
              "      <th>0</th>\n",
              "      <td>10</td>\n",
              "      <td>MWe</td>\n",
              "    </tr>\n",
              "    <tr>\n",
              "      <th>1</th>\n",
              "      <td>32</td>\n",
              "      <td>MWe</td>\n",
              "    </tr>\n",
              "    <tr>\n",
              "      <th>2</th>\n",
              "      <td>32</td>\n",
              "      <td>MWe</td>\n",
              "    </tr>\n",
              "    <tr>\n",
              "      <th>3</th>\n",
              "      <td>52</td>\n",
              "      <td>MWe</td>\n",
              "    </tr>\n",
              "    <tr>\n",
              "      <th>4</th>\n",
              "      <td>1011</td>\n",
              "      <td>MWe</td>\n",
              "    </tr>\n",
              "    <tr>\n",
              "      <th>...</th>\n",
              "      <td>...</td>\n",
              "      <td>...</td>\n",
              "    </tr>\n",
              "    <tr>\n",
              "      <th>666</th>\n",
              "      <td>950</td>\n",
              "      <td>MWe</td>\n",
              "    </tr>\n",
              "    <tr>\n",
              "      <th>667</th>\n",
              "      <td>950</td>\n",
              "      <td>MWe</td>\n",
              "    </tr>\n",
              "    <tr>\n",
              "      <th>668</th>\n",
              "      <td>950</td>\n",
              "      <td>MWe</td>\n",
              "    </tr>\n",
              "    <tr>\n",
              "      <th>669</th>\n",
              "      <td>1040</td>\n",
              "      <td>MWe</td>\n",
              "    </tr>\n",
              "    <tr>\n",
              "      <th>670</th>\n",
              "      <td>1040</td>\n",
              "      <td>MWe</td>\n",
              "    </tr>\n",
              "  </tbody>\n",
              "</table>\n",
              "<p>671 rows × 2 columns</p>\n",
              "</div>"
            ],
            "text/plain": [
              "        0    1\n",
              "0      10  MWe\n",
              "1      32  MWe\n",
              "2      32  MWe\n",
              "3      52  MWe\n",
              "4    1011  MWe\n",
              "..    ...  ...\n",
              "666   950  MWe\n",
              "667   950  MWe\n",
              "668   950  MWe\n",
              "669  1040  MWe\n",
              "670  1040  MWe\n",
              "\n",
              "[671 rows x 2 columns]"
            ]
          },
          "metadata": {},
          "execution_count": 126
        }
      ]
    },
    {
      "cell_type": "code",
      "metadata": {
        "colab": {
          "base_uri": "https://localhost:8080/",
          "height": 406
        },
        "id": "omk9asO8LPRc",
        "outputId": "e84821d1-0d05-465a-9326-f75104edad78"
      },
      "source": [
        "reactors['Capacity number'] = new_capacity[0]\n",
        "reactors['Unit'] = new_capacity[1]\n",
        "reactors.drop(columns = 'Capacity', inplace=True)\n",
        "reactors.head()"
      ],
      "execution_count": null,
      "outputs": [
        {
          "output_type": "execute_result",
          "data": {
            "text/html": [
              "<div>\n",
              "<style scoped>\n",
              "    .dataframe tbody tr th:only-of-type {\n",
              "        vertical-align: middle;\n",
              "    }\n",
              "\n",
              "    .dataframe tbody tr th {\n",
              "        vertical-align: top;\n",
              "    }\n",
              "\n",
              "    .dataframe thead th {\n",
              "        text-align: right;\n",
              "    }\n",
              "</style>\n",
              "<table border=\"1\" class=\"dataframe\">\n",
              "  <thead>\n",
              "    <tr style=\"text-align: right;\">\n",
              "      <th></th>\n",
              "      <th>Name</th>\n",
              "      <th>Name_link</th>\n",
              "      <th>Country</th>\n",
              "      <th>Status</th>\n",
              "      <th>Type</th>\n",
              "      <th>Owner</th>\n",
              "      <th>Operator</th>\n",
              "      <th>Connection</th>\n",
              "      <th>Year</th>\n",
              "      <th>Capacity number</th>\n",
              "      <th>Unit</th>\n",
              "    </tr>\n",
              "  </thead>\n",
              "  <tbody>\n",
              "    <tr>\n",
              "      <th>0</th>\n",
              "      <td>Agesta</td>\n",
              "      <td>http://www.world-nuclear.org/reactor/default.a...</td>\n",
              "      <td>Sweden</td>\n",
              "      <td>PERMANENT SHUTDOWN</td>\n",
              "      <td>Pressurized Heavy Water Reactor</td>\n",
              "      <td>Barsebäck Kraft AB</td>\n",
              "      <td>Barsebäck Kraft AB</td>\n",
              "      <td>1 May 1964</td>\n",
              "      <td>1964</td>\n",
              "      <td>10</td>\n",
              "      <td>MWe</td>\n",
              "    </tr>\n",
              "    <tr>\n",
              "      <th>1</th>\n",
              "      <td>Akademik Lomonosov 1</td>\n",
              "      <td>http://www.world-nuclear.org/reactor/default.a...</td>\n",
              "      <td>Russia</td>\n",
              "      <td>UNDER CONSTRUCTION</td>\n",
              "      <td>Pressurised Water Reactor</td>\n",
              "      <td>Joint Stock Company 'Concern Rosenergoatom'</td>\n",
              "      <td>Joint Stock Company 'Concern Rosenergoatom'</td>\n",
              "      <td>NaN</td>\n",
              "      <td>NaN</td>\n",
              "      <td>32</td>\n",
              "      <td>MWe</td>\n",
              "    </tr>\n",
              "    <tr>\n",
              "      <th>2</th>\n",
              "      <td>Akademik Lomonosov 2</td>\n",
              "      <td>http://www.world-nuclear.org/reactor/default.a...</td>\n",
              "      <td>Russia</td>\n",
              "      <td>UNDER CONSTRUCTION</td>\n",
              "      <td>Pressurised Water Reactor</td>\n",
              "      <td>Joint Stock Company 'Concern Rosenergoatom'</td>\n",
              "      <td>Joint Stock Company 'Concern Rosenergoatom'</td>\n",
              "      <td>NaN</td>\n",
              "      <td>NaN</td>\n",
              "      <td>32</td>\n",
              "      <td>MWe</td>\n",
              "    </tr>\n",
              "    <tr>\n",
              "      <th>3</th>\n",
              "      <td>Aktau</td>\n",
              "      <td>http://www.world-nuclear.org/reactor/default.a...</td>\n",
              "      <td>Kazakhstan</td>\n",
              "      <td>PERMANENT SHUTDOWN</td>\n",
              "      <td>Fast Reactor</td>\n",
              "      <td>Joint Stock Company \"National Atomic Company K...</td>\n",
              "      <td>Mangishlak Atomic Energy Complex-Kazatomprom,L...</td>\n",
              "      <td>16 July 1973</td>\n",
              "      <td>1973</td>\n",
              "      <td>52</td>\n",
              "      <td>MWe</td>\n",
              "    </tr>\n",
              "    <tr>\n",
              "      <th>4</th>\n",
              "      <td>Almaraz 1</td>\n",
              "      <td>http://www.world-nuclear.org/reactor/default.a...</td>\n",
              "      <td>Spain</td>\n",
              "      <td>OPERABLE</td>\n",
              "      <td>Pressurised Water Reactor</td>\n",
              "      <td>Iberdrola, Endesa, Gas Natural</td>\n",
              "      <td>Centrales Nucleares Almaraz-Trillo(Id/Ufg/Ende...</td>\n",
              "      <td>1 May 1981</td>\n",
              "      <td>1981</td>\n",
              "      <td>1011</td>\n",
              "      <td>MWe</td>\n",
              "    </tr>\n",
              "  </tbody>\n",
              "</table>\n",
              "</div>"
            ],
            "text/plain": [
              "                   Name  ... Unit\n",
              "0                Agesta  ...  MWe\n",
              "1  Akademik Lomonosov 1  ...  MWe\n",
              "2  Akademik Lomonosov 2  ...  MWe\n",
              "3                 Aktau  ...  MWe\n",
              "4             Almaraz 1  ...  MWe\n",
              "\n",
              "[5 rows x 11 columns]"
            ]
          },
          "metadata": {},
          "execution_count": 127
        }
      ]
    },
    {
      "cell_type": "code",
      "metadata": {
        "colab": {
          "base_uri": "https://localhost:8080/"
        },
        "id": "b2ORHevkMkCU",
        "outputId": "5662607d-39b1-438b-b539-e28679a9ed7e"
      },
      "source": [
        "reactors['Capacity number'].unique()"
      ],
      "execution_count": null,
      "outputs": [
        {
          "output_type": "execute_result",
          "data": {
            "text/plain": [
              "array(['10', '32', '52', '1011', '1006', '609', '1275', '1245', '836',\n",
              "       '993', '5', '376', '375', '995', '997', '340', '692', '13', '950',\n",
              "       '1109', '1345', '600', '921', '904', '1310', '102', '146', '560',\n",
              "       '789', '138', '365', '1167', '1240', '67', '11', 'OPERABLE', '910',\n",
              "       '408', '471', '93', '17', '482', '123', '1194', '1160', '1410',\n",
              "       '1101', '1104', '1105', '760', '730', '750', '817', '771', '938',\n",
              "       '920', '540', '880', '915', '1164', '1136', '49', '1215', '866',\n",
              "       '850', '860', '25', '1146', '1.3', '20', '650', '610', '48', '300',\n",
              "       '315', '740', '925', '70', '180', '360', '905', '604', '305',\n",
              "       '1500', '1495', '1065', '1064', '1107', '1218', '1207', '1045',\n",
              "       '768', '890', '878', '894', '944', '1138', '1118', '55', '433',\n",
              "       '1033', '206', '234', '197', '879', '601', '468', '225', '520',\n",
              "       '22', '1335', '260', '1000', '1012', '874', '883', '61', '1122',\n",
              "       '813', '1330', '1,6', '984', '1120', '330', '148', '439', '1067',\n",
              "       '39', '40', '150', '24', '529', '1127', '250', '635', '580',\n",
              "       '1010', '1419', '1360', '237', '1284', '1288', '75', '515', '806',\n",
              "       '1056', '1092', '1325', '996', '988', '994', '970', '968', '969',\n",
              "       '999', '998', '928', '595', '585', '876', '575', '235', '475',\n",
              "       '470', '1061', '1172', '63', '485', '1185', '538', '846', '257',\n",
              "       '1020', '1040', '141', '12', '202', '630', '-', '1014', '1315',\n",
              "       '566', '930', '411', '576', '640', '963', '688', '1346', '917',\n",
              "       '985', '777', '775', '1137', '1140', '153', '1220', '1085', '1130',\n",
              "       '1134', '1007', '183', '502', '496', '6', '936', '205', '1158',\n",
              "       '320', '780', '641', '869', '1229', '436', '440', '246', '647',\n",
              "       '373', '1219', '785', '100', '613', '1277', '1018', '948', '943',\n",
              "       '336', '1114', '385', '848', '859', '217', '498', '796', '473',\n",
              "       '638', '1400', '619', '805', '1311', '1314', '1312', '59', '1308',\n",
              "       '1256', '130', '1402', '516', '677', '591', '660', '522', '518',\n",
              "       '298', '908', '911', '90', '187', '873', '62', '1106', '967',\n",
              "       '741', '381', '1169', '1070', '1080', '446', '3', '1246', '1152',\n",
              "       '1125', '200', '505', '1108', '1340', '60', '820', '210', '1198',\n",
              "       '1280', '390', '465', '982', '987', '971', '1117', '1200', '838',\n",
              "       '1257', '1660', '830', '490', '1026', '819', '296', '990', '962',\n",
              "       '1008', '1038', '137', '1060', '550', '590', '195', '1003', '1095',\n",
              "       '802', '15', '480', '605', '1150', '1168', '1123', '1165', '92',\n",
              "       '664', '652', '651', '653', '167'], dtype=object)"
            ]
          },
          "metadata": {},
          "execution_count": 128
        }
      ]
    },
    {
      "cell_type": "code",
      "metadata": {
        "colab": {
          "base_uri": "https://localhost:8080/"
        },
        "id": "GWIAanMMLBoR",
        "outputId": "b4518fa3-853c-4d32-9f76-eefff16ecbb0"
      },
      "source": [
        "reactors['Capacity number'].str.find(',').sort_values(ascending=False)"
      ],
      "execution_count": null,
      "outputs": [
        {
          "output_type": "execute_result",
          "data": {
            "text/plain": [
              "201    1\n",
              "451    1\n",
              "670   -1\n",
              "220   -1\n",
              "227   -1\n",
              "      ..\n",
              "445   -1\n",
              "444   -1\n",
              "443   -1\n",
              "442   -1\n",
              "0     -1\n",
              "Name: Capacity number, Length: 671, dtype: int64"
            ]
          },
          "metadata": {},
          "execution_count": 129
        }
      ]
    },
    {
      "cell_type": "code",
      "metadata": {
        "colab": {
          "base_uri": "https://localhost:8080/"
        },
        "id": "9CnHwZ-kLTiF",
        "outputId": "0d2c6051-5cb1-4ce2-b505-deb74fcea2c7"
      },
      "source": [
        "reactors.loc[451]"
      ],
      "execution_count": null,
      "outputs": [
        {
          "output_type": "execute_result",
          "data": {
            "text/plain": [
              "Name                                                     Olkiluoto 3\n",
              "Name_link          http://www.world-nuclear.org/reactor/default.a...\n",
              "Country                                                      Finland\n",
              "Status                                            UNDER CONSTRUCTION\n",
              "Type                                       Pressurised Water Reactor\n",
              "Owner                                         Teollisuuden Voima Oyj\n",
              "Operator                                      Teollisuuden Voima Oyj\n",
              "Connection                                                       NaN\n",
              "Year                                                             NaN\n",
              "Capacity number                                                  1,6\n",
              "Unit                                                             GWe\n",
              "Name: 451, dtype: object"
            ]
          },
          "metadata": {},
          "execution_count": 130
        }
      ]
    },
    {
      "cell_type": "code",
      "metadata": {
        "colab": {
          "base_uri": "https://localhost:8080/"
        },
        "id": "dJzGIZIrMUB-",
        "outputId": "d2714024-8aef-46af-86c9-b1bf953ebe83"
      },
      "source": [
        "reactors['Capacity number'].str.find('-').sort_values(ascending=False)"
      ],
      "execution_count": null,
      "outputs": [
        {
          "output_type": "execute_result",
          "data": {
            "text/plain": [
              "327    0\n",
              "670   -1\n",
              "219   -1\n",
              "227   -1\n",
              "226   -1\n",
              "      ..\n",
              "445   -1\n",
              "444   -1\n",
              "443   -1\n",
              "442   -1\n",
              "0     -1\n",
              "Name: Capacity number, Length: 671, dtype: int64"
            ]
          },
          "metadata": {},
          "execution_count": 131
        }
      ]
    },
    {
      "cell_type": "code",
      "metadata": {
        "colab": {
          "base_uri": "https://localhost:8080/"
        },
        "id": "gXItuu5nMm92",
        "outputId": "2dc4f84f-a0b6-4add-cfce-f91aba6e588d"
      },
      "source": [
        "reactors.loc[327]"
      ],
      "execution_count": null,
      "outputs": [
        {
          "output_type": "execute_result",
          "data": {
            "text/plain": [
              "Name                                                          KANUPP\n",
              "Name_link          http://www.world-nuclear.org/reactor/default.a...\n",
              "Country                                                     Pakistan\n",
              "Status                                                         false\n",
              "Type                                 Pressurized Heavy Water Reactor\n",
              "Owner                                                            NaN\n",
              "Operator                                                       false\n",
              "Connection                                           18 October 1971\n",
              "Year                                                            1971\n",
              "Capacity number                                                    -\n",
              "Unit                                                             MWe\n",
              "Name: 327, dtype: object"
            ]
          },
          "metadata": {},
          "execution_count": 132
        }
      ]
    },
    {
      "cell_type": "code",
      "metadata": {
        "id": "i9ibikuJgEH7"
      },
      "source": [
        "reactors['Capacity number'].iloc[[201,451,327]]=reactors['Capacity number'].iloc[[201,451,327]].replace({'1,6':'1.6', '-':'0.0'})"
      ],
      "execution_count": null,
      "outputs": []
    },
    {
      "cell_type": "code",
      "metadata": {
        "colab": {
          "base_uri": "https://localhost:8080/"
        },
        "id": "inyNedawN4jN",
        "outputId": "43b1d77c-01c3-47c2-d4bd-b12d14d987f0"
      },
      "source": [
        "reactors['Capacity number'].iloc[[201,451,327]]"
      ],
      "execution_count": null,
      "outputs": [
        {
          "output_type": "execute_result",
          "data": {
            "text/plain": [
              "201    1.6\n",
              "451    1.6\n",
              "327    0.0\n",
              "Name: Capacity number, dtype: object"
            ]
          },
          "metadata": {},
          "execution_count": 134
        }
      ]
    },
    {
      "cell_type": "markdown",
      "metadata": {
        "id": "MAagSON4OVfL"
      },
      "source": [
        "# Correcting the line with 'Operable' in the Capacity number column"
      ]
    },
    {
      "cell_type": "markdown",
      "metadata": {
        "id": "op6tBuKpOv0V"
      },
      "source": [
        "We must find the offending line"
      ]
    },
    {
      "cell_type": "code",
      "metadata": {
        "colab": {
          "base_uri": "https://localhost:8080/",
          "height": 131
        },
        "id": "__VMuqK7N-Sd",
        "outputId": "96a47e68-b425-4406-f227-7f265d6ee972"
      },
      "source": [
        "reactors.loc[reactors['Capacity number']=='OPERABLE']"
      ],
      "execution_count": null,
      "outputs": [
        {
          "output_type": "execute_result",
          "data": {
            "text/html": [
              "<div>\n",
              "<style scoped>\n",
              "    .dataframe tbody tr th:only-of-type {\n",
              "        vertical-align: middle;\n",
              "    }\n",
              "\n",
              "    .dataframe tbody tr th {\n",
              "        vertical-align: top;\n",
              "    }\n",
              "\n",
              "    .dataframe thead th {\n",
              "        text-align: right;\n",
              "    }\n",
              "</style>\n",
              "<table border=\"1\" class=\"dataframe\">\n",
              "  <thead>\n",
              "    <tr style=\"text-align: right;\">\n",
              "      <th></th>\n",
              "      <th>Name</th>\n",
              "      <th>Name_link</th>\n",
              "      <th>Country</th>\n",
              "      <th>Status</th>\n",
              "      <th>Type</th>\n",
              "      <th>Owner</th>\n",
              "      <th>Operator</th>\n",
              "      <th>Connection</th>\n",
              "      <th>Year</th>\n",
              "      <th>Capacity number</th>\n",
              "      <th>Unit</th>\n",
              "    </tr>\n",
              "  </thead>\n",
              "  <tbody>\n",
              "    <tr>\n",
              "      <th>48</th>\n",
              "      <td>Bilibino 4</td>\n",
              "      <td>http://www.world-nuclear.org/reactor/default.a...</td>\n",
              "      <td>Russia”,”11 MWe</td>\n",
              "      <td>Light Water Graphite Reactor</td>\n",
              "      <td>Joint Stock Company 'Concern Rosenergoatom'</td>\n",
              "      <td>Joint Stock Company 'Concern Rosenergoatom'</td>\n",
              "      <td>27 December 1976</td>\n",
              "      <td>NaN</td>\n",
              "      <td>NaN</td>\n",
              "      <td>OPERABLE</td>\n",
              "      <td>None</td>\n",
              "    </tr>\n",
              "  </tbody>\n",
              "</table>\n",
              "</div>"
            ],
            "text/plain": [
              "          Name  ...  Unit\n",
              "48  Bilibino 4  ...  None\n",
              "\n",
              "[1 rows x 11 columns]"
            ]
          },
          "metadata": {},
          "execution_count": 135
        }
      ]
    },
    {
      "cell_type": "code",
      "metadata": {
        "colab": {
          "base_uri": "https://localhost:8080/",
          "height": 179
        },
        "id": "4JF74xmmPFb4",
        "outputId": "9b692cad-b588-4475-ad42-d6d20466cc51"
      },
      "source": [
        "reactors.loc[[48,49]]"
      ],
      "execution_count": null,
      "outputs": [
        {
          "output_type": "execute_result",
          "data": {
            "text/html": [
              "<div>\n",
              "<style scoped>\n",
              "    .dataframe tbody tr th:only-of-type {\n",
              "        vertical-align: middle;\n",
              "    }\n",
              "\n",
              "    .dataframe tbody tr th {\n",
              "        vertical-align: top;\n",
              "    }\n",
              "\n",
              "    .dataframe thead th {\n",
              "        text-align: right;\n",
              "    }\n",
              "</style>\n",
              "<table border=\"1\" class=\"dataframe\">\n",
              "  <thead>\n",
              "    <tr style=\"text-align: right;\">\n",
              "      <th></th>\n",
              "      <th>Name</th>\n",
              "      <th>Name_link</th>\n",
              "      <th>Country</th>\n",
              "      <th>Status</th>\n",
              "      <th>Type</th>\n",
              "      <th>Owner</th>\n",
              "      <th>Operator</th>\n",
              "      <th>Connection</th>\n",
              "      <th>Year</th>\n",
              "      <th>Capacity number</th>\n",
              "      <th>Unit</th>\n",
              "    </tr>\n",
              "  </thead>\n",
              "  <tbody>\n",
              "    <tr>\n",
              "      <th>48</th>\n",
              "      <td>Bilibino 4</td>\n",
              "      <td>http://www.world-nuclear.org/reactor/default.a...</td>\n",
              "      <td>Russia”,”11 MWe</td>\n",
              "      <td>Light Water Graphite Reactor</td>\n",
              "      <td>Joint Stock Company 'Concern Rosenergoatom'</td>\n",
              "      <td>Joint Stock Company 'Concern Rosenergoatom'</td>\n",
              "      <td>27 December 1976</td>\n",
              "      <td>NaN</td>\n",
              "      <td>NaN</td>\n",
              "      <td>OPERABLE</td>\n",
              "      <td>None</td>\n",
              "    </tr>\n",
              "    <tr>\n",
              "      <th>49</th>\n",
              "      <td>Blayais 1</td>\n",
              "      <td>http://www.world-nuclear.org/reactor/default.a...</td>\n",
              "      <td>France</td>\n",
              "      <td>OPERABLE</td>\n",
              "      <td>Pressurised Water Reactor</td>\n",
              "      <td>EDF</td>\n",
              "      <td>EDF</td>\n",
              "      <td>12 June 1981</td>\n",
              "      <td>1981</td>\n",
              "      <td>910</td>\n",
              "      <td>MWe</td>\n",
              "    </tr>\n",
              "  </tbody>\n",
              "</table>\n",
              "</div>"
            ],
            "text/plain": [
              "          Name  ...  Unit\n",
              "48  Bilibino 4  ...  None\n",
              "49   Blayais 1  ...   MWe\n",
              "\n",
              "[2 rows x 11 columns]"
            ]
          },
          "metadata": {},
          "execution_count": 136
        }
      ]
    },
    {
      "cell_type": "code",
      "metadata": {
        "id": "nbsELFVwPXfP"
      },
      "source": [
        "reactors.iloc[48]['Capacity number']=11"
      ],
      "execution_count": null,
      "outputs": []
    },
    {
      "cell_type": "code",
      "metadata": {
        "id": "cfF81qcyPgbb"
      },
      "source": [
        "reactors.iloc[48]['Country']='Russia'"
      ],
      "execution_count": null,
      "outputs": []
    },
    {
      "cell_type": "code",
      "metadata": {
        "id": "bk5l8slTPiY7"
      },
      "source": [
        "reactors.iloc[48]['Status']='OPERABLE'"
      ],
      "execution_count": null,
      "outputs": []
    },
    {
      "cell_type": "code",
      "metadata": {
        "id": "cWeshOZaPixy"
      },
      "source": [
        "reactors.iloc[48]['Type']='Light Water Graphite Reactor'"
      ],
      "execution_count": null,
      "outputs": []
    },
    {
      "cell_type": "code",
      "metadata": {
        "id": "UDnkc22fP7Hb"
      },
      "source": [
        "reactors.iloc[48]['Owner']='Joint Stock Company ''Concern Rosenergoatom'''"
      ],
      "execution_count": null,
      "outputs": []
    },
    {
      "cell_type": "code",
      "metadata": {
        "id": "Mh_Cg7u0QgLG"
      },
      "source": [
        "reactors.iloc[48]['Operator']='Joint Stock Company ''Concern Rosenergoatom'''"
      ],
      "execution_count": null,
      "outputs": []
    },
    {
      "cell_type": "code",
      "metadata": {
        "id": "_wVPZiUjQpXb"
      },
      "source": [
        "reactors.iloc[48]['Connection']='27 December 1976'"
      ],
      "execution_count": null,
      "outputs": []
    },
    {
      "cell_type": "code",
      "metadata": {
        "id": "xVX9TIPCQ-p0"
      },
      "source": [
        "reactors.iloc[48]['Year']='1976'"
      ],
      "execution_count": null,
      "outputs": []
    },
    {
      "cell_type": "code",
      "metadata": {
        "id": "cLTHsicQRMZE"
      },
      "source": [
        "reactors.iloc[48]['Unit']='MWe'"
      ],
      "execution_count": null,
      "outputs": []
    },
    {
      "cell_type": "code",
      "metadata": {
        "colab": {
          "base_uri": "https://localhost:8080/",
          "height": 179
        },
        "id": "7aFhqwEkka1i",
        "outputId": "d7cdd45d-7cdd-4aed-a276-5324ceb95f41"
      },
      "source": [
        "reactors.loc[[48,49]]"
      ],
      "execution_count": null,
      "outputs": [
        {
          "output_type": "execute_result",
          "data": {
            "text/html": [
              "<div>\n",
              "<style scoped>\n",
              "    .dataframe tbody tr th:only-of-type {\n",
              "        vertical-align: middle;\n",
              "    }\n",
              "\n",
              "    .dataframe tbody tr th {\n",
              "        vertical-align: top;\n",
              "    }\n",
              "\n",
              "    .dataframe thead th {\n",
              "        text-align: right;\n",
              "    }\n",
              "</style>\n",
              "<table border=\"1\" class=\"dataframe\">\n",
              "  <thead>\n",
              "    <tr style=\"text-align: right;\">\n",
              "      <th></th>\n",
              "      <th>Name</th>\n",
              "      <th>Name_link</th>\n",
              "      <th>Country</th>\n",
              "      <th>Status</th>\n",
              "      <th>Type</th>\n",
              "      <th>Owner</th>\n",
              "      <th>Operator</th>\n",
              "      <th>Connection</th>\n",
              "      <th>Year</th>\n",
              "      <th>Capacity number</th>\n",
              "      <th>Unit</th>\n",
              "    </tr>\n",
              "  </thead>\n",
              "  <tbody>\n",
              "    <tr>\n",
              "      <th>48</th>\n",
              "      <td>Bilibino 4</td>\n",
              "      <td>http://www.world-nuclear.org/reactor/default.a...</td>\n",
              "      <td>Russia</td>\n",
              "      <td>OPERABLE</td>\n",
              "      <td>Light Water Graphite Reactor</td>\n",
              "      <td>Joint Stock Company Concern Rosenergoatom</td>\n",
              "      <td>Joint Stock Company Concern Rosenergoatom</td>\n",
              "      <td>27 December 1976</td>\n",
              "      <td>1976</td>\n",
              "      <td>11</td>\n",
              "      <td>MWe</td>\n",
              "    </tr>\n",
              "    <tr>\n",
              "      <th>49</th>\n",
              "      <td>Blayais 1</td>\n",
              "      <td>http://www.world-nuclear.org/reactor/default.a...</td>\n",
              "      <td>France</td>\n",
              "      <td>OPERABLE</td>\n",
              "      <td>Pressurised Water Reactor</td>\n",
              "      <td>EDF</td>\n",
              "      <td>EDF</td>\n",
              "      <td>12 June 1981</td>\n",
              "      <td>1981</td>\n",
              "      <td>910</td>\n",
              "      <td>MWe</td>\n",
              "    </tr>\n",
              "  </tbody>\n",
              "</table>\n",
              "</div>"
            ],
            "text/plain": [
              "          Name  ... Unit\n",
              "48  Bilibino 4  ...  MWe\n",
              "49   Blayais 1  ...  MWe\n",
              "\n",
              "[2 rows x 11 columns]"
            ]
          },
          "metadata": {},
          "execution_count": 146
        }
      ]
    },
    {
      "cell_type": "markdown",
      "metadata": {
        "id": "e0aB1S2ckm8O"
      },
      "source": [
        "## Correcting entries with different spellings"
      ]
    },
    {
      "cell_type": "markdown",
      "metadata": {
        "id": "Ii91QO3Te4Fc"
      },
      "source": [
        "When looking at the values of Country we see that the United States appears two times, different by their spellings. We homogeneize spelling so summaries will be correct."
      ]
    },
    {
      "cell_type": "code",
      "metadata": {
        "id": "Oo_NsAKZkvRG",
        "colab": {
          "base_uri": "https://localhost:8080/"
        },
        "outputId": "6944049f-5c45-41ef-e783-1eb3ca5dbc5f"
      },
      "source": [
        "reactors['Country'].sort_values(ascending=False).head(20)"
      ],
      "execution_count": null,
      "outputs": [
        {
          "output_type": "execute_result",
          "data": {
            "text/plain": [
              "276    United States of America\n",
              "58     United States of America\n",
              "279    United States of America\n",
              "280    United States of America\n",
              "258    United States Of America\n",
              "536    United States Of America\n",
              "546    United States Of America\n",
              "545    United States Of America\n",
              "542    United States Of America\n",
              "541    United States Of America\n",
              "205    United States Of America\n",
              "206    United States Of America\n",
              "537    United States Of America\n",
              "535    United States Of America\n",
              "522    United States Of America\n",
              "534    United States Of America\n",
              "198    United States Of America\n",
              "227    United States Of America\n",
              "234    United States Of America\n",
              "239    United States Of America\n",
              "Name: Country, dtype: object"
            ]
          },
          "metadata": {},
          "execution_count": 147
        }
      ]
    },
    {
      "cell_type": "code",
      "metadata": {
        "id": "0od-HWG6fMcy"
      },
      "source": [
        "reactors.loc[[276,279,280,58],'Country'] = 'United States Of America'"
      ],
      "execution_count": null,
      "outputs": []
    },
    {
      "cell_type": "code",
      "metadata": {
        "colab": {
          "base_uri": "https://localhost:8080/"
        },
        "id": "m6JwFdrXfPlC",
        "outputId": "3a1d342c-bbac-45e0-bf81-8cbda406e95a"
      },
      "source": [
        "reactors['Country'].unique()"
      ],
      "execution_count": null,
      "outputs": [
        {
          "output_type": "execute_result",
          "data": {
            "text/plain": [
              "array(['Sweden', 'Russia', 'Kazakhstan', 'Spain', 'Brazil',\n",
              "       'United States Of America', 'Armenia', 'Argentina', 'Germany',\n",
              "       'United Arab Emirates', 'France', 'United Kingdom', 'Switzerland',\n",
              "       'Slovakia', 'Netherlands', 'Belgium', 'Canada', 'Iran', 'Italy',\n",
              "       'China', 'Romania', 'Pakistan', 'Ukraine', 'Taiwan',\n",
              "       'Czech Republic', 'Japan', 'South Korea', 'Lithuania', 'India',\n",
              "       'Ukriane', 'South Africa', 'Bulgaria', 'Slovenia', 'Mexico', 'USA',\n",
              "       'Finland', 'Belarus', 'Hungary'], dtype=object)"
            ]
          },
          "metadata": {},
          "execution_count": 149
        }
      ]
    },
    {
      "cell_type": "code",
      "metadata": {
        "colab": {
          "base_uri": "https://localhost:8080/",
          "height": 49
        },
        "id": "lwobHBCwfXca",
        "outputId": "d88b02d8-1f2e-4a39-ae91-d512c13c0321"
      },
      "source": [
        "reactors.loc[reactors['Country']=='United States of America']"
      ],
      "execution_count": null,
      "outputs": [
        {
          "output_type": "execute_result",
          "data": {
            "text/html": [
              "<div>\n",
              "<style scoped>\n",
              "    .dataframe tbody tr th:only-of-type {\n",
              "        vertical-align: middle;\n",
              "    }\n",
              "\n",
              "    .dataframe tbody tr th {\n",
              "        vertical-align: top;\n",
              "    }\n",
              "\n",
              "    .dataframe thead th {\n",
              "        text-align: right;\n",
              "    }\n",
              "</style>\n",
              "<table border=\"1\" class=\"dataframe\">\n",
              "  <thead>\n",
              "    <tr style=\"text-align: right;\">\n",
              "      <th></th>\n",
              "      <th>Name</th>\n",
              "      <th>Name_link</th>\n",
              "      <th>Country</th>\n",
              "      <th>Status</th>\n",
              "      <th>Type</th>\n",
              "      <th>Owner</th>\n",
              "      <th>Operator</th>\n",
              "      <th>Connection</th>\n",
              "      <th>Year</th>\n",
              "      <th>Capacity number</th>\n",
              "      <th>Unit</th>\n",
              "    </tr>\n",
              "  </thead>\n",
              "  <tbody>\n",
              "  </tbody>\n",
              "</table>\n",
              "</div>"
            ],
            "text/plain": [
              "Empty DataFrame\n",
              "Columns: [Name, Name_link, Country, Status, Type, Owner, Operator, Connection, Year, Capacity number, Unit]\n",
              "Index: []"
            ]
          },
          "metadata": {},
          "execution_count": 150
        }
      ]
    },
    {
      "cell_type": "code",
      "metadata": {
        "colab": {
          "base_uri": "https://localhost:8080/",
          "height": 162
        },
        "id": "jt46W4fufc3i",
        "outputId": "664eeb59-efbc-485c-fafe-75a2a19fd7ce"
      },
      "source": [
        "reactors.loc[reactors['Country']=='USA']"
      ],
      "execution_count": null,
      "outputs": [
        {
          "output_type": "execute_result",
          "data": {
            "text/html": [
              "<div>\n",
              "<style scoped>\n",
              "    .dataframe tbody tr th:only-of-type {\n",
              "        vertical-align: middle;\n",
              "    }\n",
              "\n",
              "    .dataframe tbody tr th {\n",
              "        vertical-align: top;\n",
              "    }\n",
              "\n",
              "    .dataframe thead th {\n",
              "        text-align: right;\n",
              "    }\n",
              "</style>\n",
              "<table border=\"1\" class=\"dataframe\">\n",
              "  <thead>\n",
              "    <tr style=\"text-align: right;\">\n",
              "      <th></th>\n",
              "      <th>Name</th>\n",
              "      <th>Name_link</th>\n",
              "      <th>Country</th>\n",
              "      <th>Status</th>\n",
              "      <th>Type</th>\n",
              "      <th>Owner</th>\n",
              "      <th>Operator</th>\n",
              "      <th>Connection</th>\n",
              "      <th>Year</th>\n",
              "      <th>Capacity number</th>\n",
              "      <th>Unit</th>\n",
              "    </tr>\n",
              "  </thead>\n",
              "  <tbody>\n",
              "    <tr>\n",
              "      <th>372</th>\n",
              "      <td>Lasalle 1</td>\n",
              "      <td>http://www.world-nuclear.org/reactor/default.a...</td>\n",
              "      <td>USA</td>\n",
              "      <td>OPERABLE</td>\n",
              "      <td>Boiling Water Reactor</td>\n",
              "      <td>Exelon Corporation</td>\n",
              "      <td>Exelon Generation Co., Llc</td>\n",
              "      <td>4 September 1982</td>\n",
              "      <td>1982</td>\n",
              "      <td>1137</td>\n",
              "      <td>MWe</td>\n",
              "    </tr>\n",
              "    <tr>\n",
              "      <th>373</th>\n",
              "      <td>Lasalle 2</td>\n",
              "      <td>http://www.world-nuclear.org/reactor/default.a...</td>\n",
              "      <td>USA</td>\n",
              "      <td>OPERABLE</td>\n",
              "      <td>Boiling Water Reactor</td>\n",
              "      <td>Exelon Corporation</td>\n",
              "      <td>Exelon Generation Co., Llc</td>\n",
              "      <td>20 April 1984</td>\n",
              "      <td>1984</td>\n",
              "      <td>1140</td>\n",
              "      <td>MWe</td>\n",
              "    </tr>\n",
              "  </tbody>\n",
              "</table>\n",
              "</div>"
            ],
            "text/plain": [
              "          Name  ... Unit\n",
              "372  Lasalle 1  ...  MWe\n",
              "373  Lasalle 2  ...  MWe\n",
              "\n",
              "[2 rows x 11 columns]"
            ]
          },
          "metadata": {},
          "execution_count": 151
        }
      ]
    },
    {
      "cell_type": "code",
      "metadata": {
        "id": "ZCMGJJfnffey"
      },
      "source": [
        "reactors.loc[[372,373],'Country']='United States Of America'"
      ],
      "execution_count": null,
      "outputs": []
    },
    {
      "cell_type": "code",
      "metadata": {
        "colab": {
          "base_uri": "https://localhost:8080/"
        },
        "id": "B6bYiH8Sfhoz",
        "outputId": "c3ec264e-1859-4552-cd53-9d0ecf328c76"
      },
      "source": [
        "reactors['Country'].unique()"
      ],
      "execution_count": null,
      "outputs": [
        {
          "output_type": "execute_result",
          "data": {
            "text/plain": [
              "array(['Sweden', 'Russia', 'Kazakhstan', 'Spain', 'Brazil',\n",
              "       'United States Of America', 'Armenia', 'Argentina', 'Germany',\n",
              "       'United Arab Emirates', 'France', 'United Kingdom', 'Switzerland',\n",
              "       'Slovakia', 'Netherlands', 'Belgium', 'Canada', 'Iran', 'Italy',\n",
              "       'China', 'Romania', 'Pakistan', 'Ukraine', 'Taiwan',\n",
              "       'Czech Republic', 'Japan', 'South Korea', 'Lithuania', 'India',\n",
              "       'Ukriane', 'South Africa', 'Bulgaria', 'Slovenia', 'Mexico',\n",
              "       'Finland', 'Belarus', 'Hungary'], dtype=object)"
            ]
          },
          "metadata": {},
          "execution_count": 153
        }
      ]
    },
    {
      "cell_type": "code",
      "metadata": {
        "colab": {
          "base_uri": "https://localhost:8080/",
          "height": 49
        },
        "id": "GBk_7YUnfo5q",
        "outputId": "5c9da31e-8b9d-458e-bc5a-74d91fbe0804"
      },
      "source": [
        "reactors.loc[reactors['Capacity number'] == '-']"
      ],
      "execution_count": null,
      "outputs": [
        {
          "output_type": "execute_result",
          "data": {
            "text/html": [
              "<div>\n",
              "<style scoped>\n",
              "    .dataframe tbody tr th:only-of-type {\n",
              "        vertical-align: middle;\n",
              "    }\n",
              "\n",
              "    .dataframe tbody tr th {\n",
              "        vertical-align: top;\n",
              "    }\n",
              "\n",
              "    .dataframe thead th {\n",
              "        text-align: right;\n",
              "    }\n",
              "</style>\n",
              "<table border=\"1\" class=\"dataframe\">\n",
              "  <thead>\n",
              "    <tr style=\"text-align: right;\">\n",
              "      <th></th>\n",
              "      <th>Name</th>\n",
              "      <th>Name_link</th>\n",
              "      <th>Country</th>\n",
              "      <th>Status</th>\n",
              "      <th>Type</th>\n",
              "      <th>Owner</th>\n",
              "      <th>Operator</th>\n",
              "      <th>Connection</th>\n",
              "      <th>Year</th>\n",
              "      <th>Capacity number</th>\n",
              "      <th>Unit</th>\n",
              "    </tr>\n",
              "  </thead>\n",
              "  <tbody>\n",
              "  </tbody>\n",
              "</table>\n",
              "</div>"
            ],
            "text/plain": [
              "Empty DataFrame\n",
              "Columns: [Name, Name_link, Country, Status, Type, Owner, Operator, Connection, Year, Capacity number, Unit]\n",
              "Index: []"
            ]
          },
          "metadata": {},
          "execution_count": 154
        }
      ]
    },
    {
      "cell_type": "markdown",
      "metadata": {
        "id": "BR2bFWaUgejS"
      },
      "source": [
        "## Converting GWe to MWe"
      ]
    },
    {
      "cell_type": "markdown",
      "metadata": {
        "id": "jJTMICncgecZ"
      },
      "source": [
        "Data in the dataframe are stored as strings, so we need to convert to numeric before we attempt any arithmetic."
      ]
    },
    {
      "cell_type": "code",
      "metadata": {
        "id": "egbLHVIvgcbq"
      },
      "source": [
        "reactors['Capacity number'] = [x if y == 'MWe' else (1000.0 * pd.to_numeric(x)) for x,y in zip(reactors['Capacity number'],reactors['Unit'])]"
      ],
      "execution_count": null,
      "outputs": []
    },
    {
      "cell_type": "code",
      "metadata": {
        "colab": {
          "base_uri": "https://localhost:8080/"
        },
        "id": "dCJE47wjgpaq",
        "outputId": "2c2d2c6f-f3aa-42da-f237-39168cec77bd"
      },
      "source": [
        "reactors['Capacity number'].iloc[[201,451,327]]"
      ],
      "execution_count": null,
      "outputs": [
        {
          "output_type": "execute_result",
          "data": {
            "text/plain": [
              "201    1600\n",
              "451    1600\n",
              "327     0.0\n",
              "Name: Capacity number, dtype: object"
            ]
          },
          "metadata": {},
          "execution_count": 156
        }
      ]
    },
    {
      "cell_type": "code",
      "metadata": {
        "colab": {
          "base_uri": "https://localhost:8080/"
        },
        "id": "Xuw2ptTkgrXC",
        "outputId": "eb7e5187-f457-4d26-e54f-dd72e11e3c19"
      },
      "source": [
        "reactors['Country'].nunique()"
      ],
      "execution_count": null,
      "outputs": [
        {
          "output_type": "execute_result",
          "data": {
            "text/plain": [
              "37"
            ]
          },
          "metadata": {},
          "execution_count": 157
        }
      ]
    },
    {
      "cell_type": "code",
      "metadata": {
        "colab": {
          "base_uri": "https://localhost:8080/"
        },
        "id": "GPoSIEgqgyKB",
        "outputId": "34d447c4-1f11-48e2-ee77-88c7f2252a58"
      },
      "source": [
        "reactors_nr = reactors.groupby('Country')['Capacity number'].count().sort_values(ascending=False)[:10]\n",
        "reactors_nr"
      ],
      "execution_count": null,
      "outputs": [
        {
          "output_type": "execute_result",
          "data": {
            "text/plain": [
              "Country\n",
              "United States Of America    137\n",
              "France                       71\n",
              "Japan                        62\n",
              "China                        57\n",
              "Russia                       48\n",
              "United Kingdom               45\n",
              "Germany                      36\n",
              "South Korea                  28\n",
              "India                        27\n",
              "Canada                       25\n",
              "Name: Capacity number, dtype: int64"
            ]
          },
          "metadata": {},
          "execution_count": 159
        }
      ]
    },
    {
      "cell_type": "code",
      "metadata": {
        "colab": {
          "base_uri": "https://localhost:8080/",
          "height": 396
        },
        "id": "Fo5oU6iDhL6Z",
        "outputId": "aab97cd4-6e3f-4cad-ca25-fdab3db395f6"
      },
      "source": [
        "import matplotlib.pyplot as plt\n",
        "import seaborn as sns\n",
        "reactors_nr.plot(kind='bar')\n",
        "plt.show()"
      ],
      "execution_count": null,
      "outputs": [
        {
          "output_type": "display_data",
          "data": {
            "image/png": "[encoded data removed]",
            "text/plain": [
              "<Figure size 432x288 with 1 Axes>"
            ]
          },
          "metadata": {
            "needs_background": "light"
          }
        }
      ]
    },
    {
      "cell_type": "code",
      "metadata": {
        "id": "LgORocO-hR-p",
        "colab": {
          "base_uri": "https://localhost:8080/",
          "height": 1000
        },
        "outputId": "f19ddcc2-dba5-4172-a31f-69273ac5a33c"
      },
      "source": [
        "reactors.groupby('Country').count()"
      ],
      "execution_count": null,
      "outputs": [
        {
          "output_type": "execute_result",
          "data": {
            "text/html": [
              "<div>\n",
              "<style scoped>\n",
              "    .dataframe tbody tr th:only-of-type {\n",
              "        vertical-align: middle;\n",
              "    }\n",
              "\n",
              "    .dataframe tbody tr th {\n",
              "        vertical-align: top;\n",
              "    }\n",
              "\n",
              "    .dataframe thead th {\n",
              "        text-align: right;\n",
              "    }\n",
              "</style>\n",
              "<table border=\"1\" class=\"dataframe\">\n",
              "  <thead>\n",
              "    <tr style=\"text-align: right;\">\n",
              "      <th></th>\n",
              "      <th>Name</th>\n",
              "      <th>Name_link</th>\n",
              "      <th>Status</th>\n",
              "      <th>Type</th>\n",
              "      <th>Owner</th>\n",
              "      <th>Operator</th>\n",
              "      <th>Connection</th>\n",
              "      <th>Year</th>\n",
              "      <th>Capacity number</th>\n",
              "      <th>Unit</th>\n",
              "    </tr>\n",
              "    <tr>\n",
              "      <th>Country</th>\n",
              "      <th></th>\n",
              "      <th></th>\n",
              "      <th></th>\n",
              "      <th></th>\n",
              "      <th></th>\n",
              "      <th></th>\n",
              "      <th></th>\n",
              "      <th></th>\n",
              "      <th></th>\n",
              "      <th></th>\n",
              "    </tr>\n",
              "  </thead>\n",
              "  <tbody>\n",
              "    <tr>\n",
              "      <th>Argentina</th>\n",
              "      <td>4</td>\n",
              "      <td>4</td>\n",
              "      <td>4</td>\n",
              "      <td>4</td>\n",
              "      <td>4</td>\n",
              "      <td>4</td>\n",
              "      <td>3</td>\n",
              "      <td>3</td>\n",
              "      <td>4</td>\n",
              "      <td>4</td>\n",
              "    </tr>\n",
              "    <tr>\n",
              "      <th>Armenia</th>\n",
              "      <td>2</td>\n",
              "      <td>2</td>\n",
              "      <td>2</td>\n",
              "      <td>2</td>\n",
              "      <td>2</td>\n",
              "      <td>2</td>\n",
              "      <td>2</td>\n",
              "      <td>2</td>\n",
              "      <td>2</td>\n",
              "      <td>2</td>\n",
              "    </tr>\n",
              "    <tr>\n",
              "      <th>Belarus</th>\n",
              "      <td>2</td>\n",
              "      <td>2</td>\n",
              "      <td>2</td>\n",
              "      <td>2</td>\n",
              "      <td>2</td>\n",
              "      <td>2</td>\n",
              "      <td>0</td>\n",
              "      <td>0</td>\n",
              "      <td>2</td>\n",
              "      <td>2</td>\n",
              "    </tr>\n",
              "    <tr>\n",
              "      <th>Belgium</th>\n",
              "      <td>8</td>\n",
              "      <td>8</td>\n",
              "      <td>8</td>\n",
              "      <td>8</td>\n",
              "      <td>8</td>\n",
              "      <td>8</td>\n",
              "      <td>8</td>\n",
              "      <td>8</td>\n",
              "      <td>8</td>\n",
              "      <td>8</td>\n",
              "    </tr>\n",
              "    <tr>\n",
              "      <th>Brazil</th>\n",
              "      <td>3</td>\n",
              "      <td>3</td>\n",
              "      <td>3</td>\n",
              "      <td>3</td>\n",
              "      <td>3</td>\n",
              "      <td>3</td>\n",
              "      <td>2</td>\n",
              "      <td>2</td>\n",
              "      <td>3</td>\n",
              "      <td>3</td>\n",
              "    </tr>\n",
              "    <tr>\n",
              "      <th>Bulgaria</th>\n",
              "      <td>6</td>\n",
              "      <td>6</td>\n",
              "      <td>6</td>\n",
              "      <td>6</td>\n",
              "      <td>4</td>\n",
              "      <td>6</td>\n",
              "      <td>6</td>\n",
              "      <td>6</td>\n",
              "      <td>6</td>\n",
              "      <td>6</td>\n",
              "    </tr>\n",
              "    <tr>\n",
              "      <th>Canada</th>\n",
              "      <td>25</td>\n",
              "      <td>25</td>\n",
              "      <td>25</td>\n",
              "      <td>25</td>\n",
              "      <td>25</td>\n",
              "      <td>25</td>\n",
              "      <td>25</td>\n",
              "      <td>25</td>\n",
              "      <td>25</td>\n",
              "      <td>25</td>\n",
              "    </tr>\n",
              "    <tr>\n",
              "      <th>China</th>\n",
              "      <td>57</td>\n",
              "      <td>57</td>\n",
              "      <td>57</td>\n",
              "      <td>57</td>\n",
              "      <td>57</td>\n",
              "      <td>57</td>\n",
              "      <td>37</td>\n",
              "      <td>37</td>\n",
              "      <td>57</td>\n",
              "      <td>57</td>\n",
              "    </tr>\n",
              "    <tr>\n",
              "      <th>Czech Republic</th>\n",
              "      <td>6</td>\n",
              "      <td>6</td>\n",
              "      <td>6</td>\n",
              "      <td>6</td>\n",
              "      <td>6</td>\n",
              "      <td>6</td>\n",
              "      <td>6</td>\n",
              "      <td>6</td>\n",
              "      <td>6</td>\n",
              "      <td>6</td>\n",
              "    </tr>\n",
              "    <tr>\n",
              "      <th>Finland</th>\n",
              "      <td>5</td>\n",
              "      <td>5</td>\n",
              "      <td>5</td>\n",
              "      <td>5</td>\n",
              "      <td>5</td>\n",
              "      <td>5</td>\n",
              "      <td>4</td>\n",
              "      <td>4</td>\n",
              "      <td>5</td>\n",
              "      <td>5</td>\n",
              "    </tr>\n",
              "    <tr>\n",
              "      <th>France</th>\n",
              "      <td>71</td>\n",
              "      <td>71</td>\n",
              "      <td>71</td>\n",
              "      <td>71</td>\n",
              "      <td>71</td>\n",
              "      <td>71</td>\n",
              "      <td>70</td>\n",
              "      <td>70</td>\n",
              "      <td>71</td>\n",
              "      <td>71</td>\n",
              "    </tr>\n",
              "    <tr>\n",
              "      <th>Germany</th>\n",
              "      <td>36</td>\n",
              "      <td>36</td>\n",
              "      <td>36</td>\n",
              "      <td>36</td>\n",
              "      <td>34</td>\n",
              "      <td>36</td>\n",
              "      <td>36</td>\n",
              "      <td>36</td>\n",
              "      <td>36</td>\n",
              "      <td>36</td>\n",
              "    </tr>\n",
              "    <tr>\n",
              "      <th>Hungary</th>\n",
              "      <td>4</td>\n",
              "      <td>4</td>\n",
              "      <td>4</td>\n",
              "      <td>4</td>\n",
              "      <td>4</td>\n",
              "      <td>4</td>\n",
              "      <td>4</td>\n",
              "      <td>4</td>\n",
              "      <td>4</td>\n",
              "      <td>4</td>\n",
              "    </tr>\n",
              "    <tr>\n",
              "      <th>India</th>\n",
              "      <td>27</td>\n",
              "      <td>27</td>\n",
              "      <td>27</td>\n",
              "      <td>27</td>\n",
              "      <td>27</td>\n",
              "      <td>27</td>\n",
              "      <td>22</td>\n",
              "      <td>22</td>\n",
              "      <td>27</td>\n",
              "      <td>27</td>\n",
              "    </tr>\n",
              "    <tr>\n",
              "      <th>Iran</th>\n",
              "      <td>1</td>\n",
              "      <td>1</td>\n",
              "      <td>1</td>\n",
              "      <td>1</td>\n",
              "      <td>1</td>\n",
              "      <td>1</td>\n",
              "      <td>1</td>\n",
              "      <td>1</td>\n",
              "      <td>1</td>\n",
              "      <td>1</td>\n",
              "    </tr>\n",
              "    <tr>\n",
              "      <th>Italy</th>\n",
              "      <td>4</td>\n",
              "      <td>4</td>\n",
              "      <td>4</td>\n",
              "      <td>4</td>\n",
              "      <td>4</td>\n",
              "      <td>4</td>\n",
              "      <td>4</td>\n",
              "      <td>4</td>\n",
              "      <td>4</td>\n",
              "      <td>4</td>\n",
              "    </tr>\n",
              "    <tr>\n",
              "      <th>Japan</th>\n",
              "      <td>62</td>\n",
              "      <td>62</td>\n",
              "      <td>62</td>\n",
              "      <td>62</td>\n",
              "      <td>62</td>\n",
              "      <td>62</td>\n",
              "      <td>60</td>\n",
              "      <td>60</td>\n",
              "      <td>62</td>\n",
              "      <td>62</td>\n",
              "    </tr>\n",
              "    <tr>\n",
              "      <th>Kazakhstan</th>\n",
              "      <td>1</td>\n",
              "      <td>1</td>\n",
              "      <td>1</td>\n",
              "      <td>1</td>\n",
              "      <td>1</td>\n",
              "      <td>1</td>\n",
              "      <td>1</td>\n",
              "      <td>1</td>\n",
              "      <td>1</td>\n",
              "      <td>1</td>\n",
              "    </tr>\n",
              "    <tr>\n",
              "      <th>Lithuania</th>\n",
              "      <td>2</td>\n",
              "      <td>2</td>\n",
              "      <td>2</td>\n",
              "      <td>2</td>\n",
              "      <td>2</td>\n",
              "      <td>2</td>\n",
              "      <td>2</td>\n",
              "      <td>2</td>\n",
              "      <td>2</td>\n",
              "      <td>2</td>\n",
              "    </tr>\n",
              "    <tr>\n",
              "      <th>Mexico</th>\n",
              "      <td>2</td>\n",
              "      <td>2</td>\n",
              "      <td>2</td>\n",
              "      <td>2</td>\n",
              "      <td>2</td>\n",
              "      <td>2</td>\n",
              "      <td>2</td>\n",
              "      <td>2</td>\n",
              "      <td>2</td>\n",
              "      <td>2</td>\n",
              "    </tr>\n",
              "    <tr>\n",
              "      <th>Netherlands</th>\n",
              "      <td>2</td>\n",
              "      <td>2</td>\n",
              "      <td>2</td>\n",
              "      <td>2</td>\n",
              "      <td>2</td>\n",
              "      <td>2</td>\n",
              "      <td>2</td>\n",
              "      <td>2</td>\n",
              "      <td>2</td>\n",
              "      <td>2</td>\n",
              "    </tr>\n",
              "    <tr>\n",
              "      <th>Pakistan</th>\n",
              "      <td>7</td>\n",
              "      <td>7</td>\n",
              "      <td>7</td>\n",
              "      <td>7</td>\n",
              "      <td>6</td>\n",
              "      <td>7</td>\n",
              "      <td>4</td>\n",
              "      <td>4</td>\n",
              "      <td>7</td>\n",
              "      <td>7</td>\n",
              "    </tr>\n",
              "    <tr>\n",
              "      <th>Romania</th>\n",
              "      <td>2</td>\n",
              "      <td>2</td>\n",
              "      <td>2</td>\n",
              "      <td>2</td>\n",
              "      <td>2</td>\n",
              "      <td>2</td>\n",
              "      <td>2</td>\n",
              "      <td>2</td>\n",
              "      <td>2</td>\n",
              "      <td>2</td>\n",
              "    </tr>\n",
              "    <tr>\n",
              "      <th>Russia</th>\n",
              "      <td>48</td>\n",
              "      <td>48</td>\n",
              "      <td>48</td>\n",
              "      <td>48</td>\n",
              "      <td>48</td>\n",
              "      <td>48</td>\n",
              "      <td>41</td>\n",
              "      <td>41</td>\n",
              "      <td>48</td>\n",
              "      <td>48</td>\n",
              "    </tr>\n",
              "    <tr>\n",
              "      <th>Slovakia</th>\n",
              "      <td>9</td>\n",
              "      <td>9</td>\n",
              "      <td>9</td>\n",
              "      <td>9</td>\n",
              "      <td>9</td>\n",
              "      <td>9</td>\n",
              "      <td>7</td>\n",
              "      <td>7</td>\n",
              "      <td>9</td>\n",
              "      <td>9</td>\n",
              "    </tr>\n",
              "    <tr>\n",
              "      <th>Slovenia</th>\n",
              "      <td>1</td>\n",
              "      <td>1</td>\n",
              "      <td>1</td>\n",
              "      <td>1</td>\n",
              "      <td>1</td>\n",
              "      <td>1</td>\n",
              "      <td>1</td>\n",
              "      <td>1</td>\n",
              "      <td>1</td>\n",
              "      <td>1</td>\n",
              "    </tr>\n",
              "    <tr>\n",
              "      <th>South Africa</th>\n",
              "      <td>2</td>\n",
              "      <td>2</td>\n",
              "      <td>2</td>\n",
              "      <td>2</td>\n",
              "      <td>2</td>\n",
              "      <td>2</td>\n",
              "      <td>2</td>\n",
              "      <td>2</td>\n",
              "      <td>2</td>\n",
              "      <td>2</td>\n",
              "    </tr>\n",
              "    <tr>\n",
              "      <th>South Korea</th>\n",
              "      <td>28</td>\n",
              "      <td>28</td>\n",
              "      <td>28</td>\n",
              "      <td>28</td>\n",
              "      <td>28</td>\n",
              "      <td>28</td>\n",
              "      <td>25</td>\n",
              "      <td>25</td>\n",
              "      <td>28</td>\n",
              "      <td>28</td>\n",
              "    </tr>\n",
              "    <tr>\n",
              "      <th>Spain</th>\n",
              "      <td>10</td>\n",
              "      <td>10</td>\n",
              "      <td>10</td>\n",
              "      <td>10</td>\n",
              "      <td>10</td>\n",
              "      <td>10</td>\n",
              "      <td>10</td>\n",
              "      <td>10</td>\n",
              "      <td>10</td>\n",
              "      <td>10</td>\n",
              "    </tr>\n",
              "    <tr>\n",
              "      <th>Sweden</th>\n",
              "      <td>13</td>\n",
              "      <td>13</td>\n",
              "      <td>13</td>\n",
              "      <td>13</td>\n",
              "      <td>13</td>\n",
              "      <td>13</td>\n",
              "      <td>13</td>\n",
              "      <td>13</td>\n",
              "      <td>13</td>\n",
              "      <td>13</td>\n",
              "    </tr>\n",
              "    <tr>\n",
              "      <th>Switzerland</th>\n",
              "      <td>6</td>\n",
              "      <td>6</td>\n",
              "      <td>6</td>\n",
              "      <td>6</td>\n",
              "      <td>6</td>\n",
              "      <td>6</td>\n",
              "      <td>6</td>\n",
              "      <td>6</td>\n",
              "      <td>6</td>\n",
              "      <td>6</td>\n",
              "    </tr>\n",
              "    <tr>\n",
              "      <th>Taiwan</th>\n",
              "      <td>8</td>\n",
              "      <td>8</td>\n",
              "      <td>8</td>\n",
              "      <td>8</td>\n",
              "      <td>8</td>\n",
              "      <td>8</td>\n",
              "      <td>6</td>\n",
              "      <td>6</td>\n",
              "      <td>8</td>\n",
              "      <td>8</td>\n",
              "    </tr>\n",
              "    <tr>\n",
              "      <th>Ukraine</th>\n",
              "      <td>17</td>\n",
              "      <td>17</td>\n",
              "      <td>17</td>\n",
              "      <td>17</td>\n",
              "      <td>17</td>\n",
              "      <td>17</td>\n",
              "      <td>17</td>\n",
              "      <td>17</td>\n",
              "      <td>17</td>\n",
              "      <td>17</td>\n",
              "    </tr>\n",
              "    <tr>\n",
              "      <th>Ukriane</th>\n",
              "      <td>4</td>\n",
              "      <td>4</td>\n",
              "      <td>4</td>\n",
              "      <td>4</td>\n",
              "      <td>4</td>\n",
              "      <td>4</td>\n",
              "      <td>2</td>\n",
              "      <td>2</td>\n",
              "      <td>4</td>\n",
              "      <td>4</td>\n",
              "    </tr>\n",
              "    <tr>\n",
              "      <th>United Arab Emirates</th>\n",
              "      <td>4</td>\n",
              "      <td>4</td>\n",
              "      <td>4</td>\n",
              "      <td>4</td>\n",
              "      <td>4</td>\n",
              "      <td>4</td>\n",
              "      <td>0</td>\n",
              "      <td>0</td>\n",
              "      <td>4</td>\n",
              "      <td>4</td>\n",
              "    </tr>\n",
              "    <tr>\n",
              "      <th>United Kingdom</th>\n",
              "      <td>45</td>\n",
              "      <td>45</td>\n",
              "      <td>45</td>\n",
              "      <td>45</td>\n",
              "      <td>45</td>\n",
              "      <td>45</td>\n",
              "      <td>45</td>\n",
              "      <td>45</td>\n",
              "      <td>45</td>\n",
              "      <td>45</td>\n",
              "    </tr>\n",
              "    <tr>\n",
              "      <th>United States Of America</th>\n",
              "      <td>137</td>\n",
              "      <td>137</td>\n",
              "      <td>137</td>\n",
              "      <td>137</td>\n",
              "      <td>129</td>\n",
              "      <td>137</td>\n",
              "      <td>133</td>\n",
              "      <td>133</td>\n",
              "      <td>137</td>\n",
              "      <td>137</td>\n",
              "    </tr>\n",
              "  </tbody>\n",
              "</table>\n",
              "</div>"
            ],
            "text/plain": [
              "                          Name  Name_link  Status  ...  Year  Capacity number  Unit\n",
              "Country                                            ...                             \n",
              "Argentina                    4          4       4  ...     3                4     4\n",
              "Armenia                      2          2       2  ...     2                2     2\n",
              "Belarus                      2          2       2  ...     0                2     2\n",
              "Belgium                      8          8       8  ...     8                8     8\n",
              "Brazil                       3          3       3  ...     2                3     3\n",
              "Bulgaria                     6          6       6  ...     6                6     6\n",
              "Canada                      25         25      25  ...    25               25    25\n",
              "China                       57         57      57  ...    37               57    57\n",
              "Czech Republic               6          6       6  ...     6                6     6\n",
              "Finland                      5          5       5  ...     4                5     5\n",
              "France                      71         71      71  ...    70               71    71\n",
              "Germany                     36         36      36  ...    36               36    36\n",
              "Hungary                      4          4       4  ...     4                4     4\n",
              "India                       27         27      27  ...    22               27    27\n",
              "Iran                         1          1       1  ...     1                1     1\n",
              "Italy                        4          4       4  ...     4                4     4\n",
              "Japan                       62         62      62  ...    60               62    62\n",
              "Kazakhstan                   1          1       1  ...     1                1     1\n",
              "Lithuania                    2          2       2  ...     2                2     2\n",
              "Mexico                       2          2       2  ...     2                2     2\n",
              "Netherlands                  2          2       2  ...     2                2     2\n",
              "Pakistan                     7          7       7  ...     4                7     7\n",
              "Romania                      2          2       2  ...     2                2     2\n",
              "Russia                      48         48      48  ...    41               48    48\n",
              "Slovakia                     9          9       9  ...     7                9     9\n",
              "Slovenia                     1          1       1  ...     1                1     1\n",
              "South Africa                 2          2       2  ...     2                2     2\n",
              "South Korea                 28         28      28  ...    25               28    28\n",
              "Spain                       10         10      10  ...    10               10    10\n",
              "Sweden                      13         13      13  ...    13               13    13\n",
              "Switzerland                  6          6       6  ...     6                6     6\n",
              "Taiwan                       8          8       8  ...     6                8     8\n",
              "Ukraine                     17         17      17  ...    17               17    17\n",
              "Ukriane                      4          4       4  ...     2                4     4\n",
              "United Arab Emirates         4          4       4  ...     0                4     4\n",
              "United Kingdom              45         45      45  ...    45               45    45\n",
              "United States Of America   137        137     137  ...   133              137   137\n",
              "\n",
              "[37 rows x 10 columns]"
            ]
          },
          "metadata": {},
          "execution_count": 161
        }
      ]
    }
  ]
}